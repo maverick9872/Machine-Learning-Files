{
 "cells": [
  {
   "cell_type": "code",
   "execution_count": 1,
   "metadata": {},
   "outputs": [
    {
     "data": {
      "text/html": [
       "<div>\n",
       "<style scoped>\n",
       "    .dataframe tbody tr th:only-of-type {\n",
       "        vertical-align: middle;\n",
       "    }\n",
       "\n",
       "    .dataframe tbody tr th {\n",
       "        vertical-align: top;\n",
       "    }\n",
       "\n",
       "    .dataframe thead th {\n",
       "        text-align: right;\n",
       "    }\n",
       "</style>\n",
       "<table border=\"1\" class=\"dataframe\">\n",
       "  <thead>\n",
       "    <tr style=\"text-align: right;\">\n",
       "      <th></th>\n",
       "      <th>x</th>\n",
       "      <th>y</th>\n",
       "    </tr>\n",
       "  </thead>\n",
       "  <tbody>\n",
       "    <tr>\n",
       "      <th>0</th>\n",
       "      <td>53.426804</td>\n",
       "      <td>68.777596</td>\n",
       "    </tr>\n",
       "    <tr>\n",
       "      <th>1</th>\n",
       "      <td>61.530358</td>\n",
       "      <td>62.562382</td>\n",
       "    </tr>\n",
       "    <tr>\n",
       "      <th>2</th>\n",
       "      <td>47.475640</td>\n",
       "      <td>71.546632</td>\n",
       "    </tr>\n",
       "    <tr>\n",
       "      <th>3</th>\n",
       "      <td>59.813208</td>\n",
       "      <td>87.230925</td>\n",
       "    </tr>\n",
       "    <tr>\n",
       "      <th>4</th>\n",
       "      <td>55.142188</td>\n",
       "      <td>78.211518</td>\n",
       "    </tr>\n",
       "    <tr>\n",
       "      <th>...</th>\n",
       "      <td>...</td>\n",
       "      <td>...</td>\n",
       "    </tr>\n",
       "    <tr>\n",
       "      <th>94</th>\n",
       "      <td>50.030174</td>\n",
       "      <td>81.536991</td>\n",
       "    </tr>\n",
       "    <tr>\n",
       "      <th>95</th>\n",
       "      <td>49.239765</td>\n",
       "      <td>72.111832</td>\n",
       "    </tr>\n",
       "    <tr>\n",
       "      <th>96</th>\n",
       "      <td>50.039576</td>\n",
       "      <td>85.232007</td>\n",
       "    </tr>\n",
       "    <tr>\n",
       "      <th>97</th>\n",
       "      <td>48.149859</td>\n",
       "      <td>66.224958</td>\n",
       "    </tr>\n",
       "    <tr>\n",
       "      <th>98</th>\n",
       "      <td>25.128485</td>\n",
       "      <td>53.454394</td>\n",
       "    </tr>\n",
       "  </tbody>\n",
       "</table>\n",
       "<p>99 rows × 2 columns</p>\n",
       "</div>"
      ],
      "text/plain": [
       "            x          y\n",
       "0   53.426804  68.777596\n",
       "1   61.530358  62.562382\n",
       "2   47.475640  71.546632\n",
       "3   59.813208  87.230925\n",
       "4   55.142188  78.211518\n",
       "..        ...        ...\n",
       "94  50.030174  81.536991\n",
       "95  49.239765  72.111832\n",
       "96  50.039576  85.232007\n",
       "97  48.149859  66.224958\n",
       "98  25.128485  53.454394\n",
       "\n",
       "[99 rows x 2 columns]"
      ]
     },
     "execution_count": 1,
     "metadata": {},
     "output_type": "execute_result"
    }
   ],
   "source": [
    "import pandas as pd\n",
    "\n",
    "data = pd.read_csv(\"../_dataset/data.csv\")\n",
    "data.columns=['x','y']\n",
    "data"
   ]
  },
  {
   "cell_type": "code",
   "execution_count": 2,
   "metadata": {},
   "outputs": [
    {
     "data": {
      "text/plain": [
       "(-0.3827020920553906, 1.2873573700109477)"
      ]
     },
     "execution_count": 2,
     "metadata": {},
     "output_type": "execute_result"
    }
   ],
   "source": [
    "sx, sy, sx2, sxy = 0, 0, 0, 0\n",
    "for i in range(len(data['x'])):\n",
    "    sx += data['x'].iloc[i]\n",
    "    sy += data['y'].iloc[i]\n",
    "    sx2 += data['x'].iloc[i]**2\n",
    "    sxy += data['x'].iloc[i]*data['y'].iloc[i]\n",
    "\n",
    "a = ((sy*sx2)-sx*sxy)/(sx2-(sx**2))\n",
    "b = ((len(data['x'])*sxy)-(sx*sy))/((len(data['x'])*sx2)-(sx**2))\n",
    "\n",
    "a,b"
   ]
  },
  {
   "cell_type": "code",
   "execution_count": 3,
   "metadata": {},
   "outputs": [
    {
     "name": "stdout",
     "output_type": "stream",
     "text": [
      "y = -0.3827020920553906 + 1.2873573700109477 * x\n"
     ]
    }
   ],
   "source": [
    "print(f'y = {a} + {b} * x')"
   ]
  },
  {
   "cell_type": "code",
   "execution_count": 4,
   "metadata": {},
   "outputs": [
    {
     "name": "stdout",
     "output_type": "stream",
     "text": [
      "60.735412487770354\n"
     ]
    }
   ],
   "source": [
    "def regressionFn(x):\n",
    "    yi = a + b * x\n",
    "    return yi\n",
    "\n",
    "print(regressionFn(data['x'].iloc[2]))"
   ]
  },
  {
   "cell_type": "code",
   "execution_count": 5,
   "metadata": {},
   "outputs": [
    {
     "name": "stdout",
     "output_type": "stream",
     "text": [
      "213.3814631725154\n"
     ]
    }
   ],
   "source": [
    "sum = 0\n",
    "for i in range(len(data['x'])):\n",
    "    num = data['y'].iloc[i] - regressionFn(data['x'].iloc[i])\n",
    "    sum += (num**2)\n",
    "\n",
    "print(sum/len(data['x']))"
   ]
  },
  {
   "cell_type": "code",
   "execution_count": 6,
   "metadata": {},
   "outputs": [
    {
     "name": "stdout",
     "output_type": "stream",
     "text": [
      "MAE: 11.888100404111796\n",
      "MSE: 213.38146317251545\n",
      "RMSE: 14.607582386299091\n"
     ]
    }
   ],
   "source": [
    "from sklearn.metrics import mean_absolute_error,mean_squared_error\n",
    "\n",
    "mae = mean_absolute_error(y_true=data['y'],y_pred=regressionFn(data['x']))\n",
    "#squared True returns MSE value, False returns RMSE value.\n",
    "mse = mean_squared_error(y_true=data['y'],y_pred=regressionFn(data['x'])) #default=True\n",
    "rmse = mean_squared_error(y_true=data['y'],y_pred=regressionFn(data['x']),squared=False)\n",
    "\n",
    "print(\"MAE:\",mae)\n",
    "print(\"MSE:\",mse)\n",
    "print(\"RMSE:\",rmse)"
   ]
  }
 ],
 "metadata": {
  "kernelspec": {
   "display_name": "Python 3.8.8 ('base')",
   "language": "python",
   "name": "python3"
  },
  "language_info": {
   "codemirror_mode": {
    "name": "ipython",
    "version": 3
   },
   "file_extension": ".py",
   "mimetype": "text/x-python",
   "name": "python",
   "nbconvert_exporter": "python",
   "pygments_lexer": "ipython3",
   "version": "3.8.8"
  },
  "orig_nbformat": 4,
  "vscode": {
   "interpreter": {
    "hash": "fb86c5e372bfe5d813b1cbc1070ec4aa4c75db0c83ff9e9751aacd15f8f7d009"
   }
  }
 },
 "nbformat": 4,
 "nbformat_minor": 2
}
